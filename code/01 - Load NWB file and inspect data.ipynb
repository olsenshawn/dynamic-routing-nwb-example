{
 "cells": [
  {
   "cell_type": "code",
   "execution_count": 1,
   "id": "6c256625-3d5b-4522-9c88-507067d43a45",
   "metadata": {
    "tags": []
   },
   "outputs": [],
   "source": [
    "import numpy as np\n",
    "import pandas as pd\n",
    "import pynwb\n",
    "from matplotlib import pyplot as plt\n",
    "%matplotlib inline"
   ]
  },
  {
   "cell_type": "markdown",
   "id": "1a310489-1d96-4d92-8f70-3087527e3982",
   "metadata": {},
   "source": [
    "# Load NWB file"
   ]
  },
  {
   "cell_type": "code",
   "execution_count": 2,
   "id": "96627289-4069-4943-b3d9-700de85aa2fa",
   "metadata": {
    "tags": []
   },
   "outputs": [],
   "source": [
    "nwb_path = '/data/742903_2024-10-22.nwb'"
   ]
  },
  {
   "cell_type": "code",
   "execution_count": 3,
   "id": "e782088e-a11e-44e9-bfb0-be9d7f91f386",
   "metadata": {
    "tags": []
   },
   "outputs": [],
   "source": [
    "nwb = pynwb.NWBHDF5IO(nwb_path).read()"
   ]
  },
  {
   "cell_type": "markdown",
   "id": "455c5c2f-1952-457f-abde-9f9fc6342e9d",
   "metadata": {},
   "source": [
    "# Trials table"
   ]
  },
  {
   "cell_type": "code",
   "execution_count": 4,
   "id": "b7ef77c8-2e4b-4aa0-b97c-93b72f66bcc0",
   "metadata": {
    "tags": []
   },
   "outputs": [],
   "source": [
    "trials = nwb.trials.to_dataframe()"
   ]
  },
  {
   "cell_type": "code",
   "execution_count": 5,
   "id": "08be2ae6-02b8-44c1-9c39-e1fdf54dcd0b",
   "metadata": {
    "tags": []
   },
   "outputs": [
    {
     "data": {
      "text/html": [
       "<div>\n",
       "<style scoped>\n",
       "    .dataframe tbody tr th:only-of-type {\n",
       "        vertical-align: middle;\n",
       "    }\n",
       "\n",
       "    .dataframe tbody tr th {\n",
       "        vertical-align: top;\n",
       "    }\n",
       "\n",
       "    .dataframe thead th {\n",
       "        text-align: right;\n",
       "    }\n",
       "</style>\n",
       "<table border=\"1\" class=\"dataframe\">\n",
       "  <thead>\n",
       "    <tr style=\"text-align: right;\">\n",
       "      <th></th>\n",
       "      <th>start_time</th>\n",
       "      <th>stop_time</th>\n",
       "      <th>quiescent_start_time</th>\n",
       "      <th>quiescent_stop_time</th>\n",
       "      <th>stim_start_time</th>\n",
       "      <th>stim_stop_time</th>\n",
       "      <th>response_window_start_time</th>\n",
       "      <th>response_window_stop_time</th>\n",
       "      <th>task_control_response_time</th>\n",
       "      <th>response_time</th>\n",
       "      <th>...</th>\n",
       "      <th>is_aud_target</th>\n",
       "      <th>is_vis_target</th>\n",
       "      <th>is_nontarget</th>\n",
       "      <th>is_aud_nontarget</th>\n",
       "      <th>is_vis_nontarget</th>\n",
       "      <th>is_vis_context</th>\n",
       "      <th>is_aud_context</th>\n",
       "      <th>is_context_switch</th>\n",
       "      <th>is_repeat</th>\n",
       "      <th>is_opto</th>\n",
       "    </tr>\n",
       "    <tr>\n",
       "      <th>id</th>\n",
       "      <th></th>\n",
       "      <th></th>\n",
       "      <th></th>\n",
       "      <th></th>\n",
       "      <th></th>\n",
       "      <th></th>\n",
       "      <th></th>\n",
       "      <th></th>\n",
       "      <th></th>\n",
       "      <th></th>\n",
       "      <th></th>\n",
       "      <th></th>\n",
       "      <th></th>\n",
       "      <th></th>\n",
       "      <th></th>\n",
       "      <th></th>\n",
       "      <th></th>\n",
       "      <th></th>\n",
       "      <th></th>\n",
       "      <th></th>\n",
       "      <th></th>\n",
       "    </tr>\n",
       "  </thead>\n",
       "  <tbody>\n",
       "    <tr>\n",
       "      <th>0</th>\n",
       "      <td>2519.80321</td>\n",
       "      <td>2525.30780</td>\n",
       "      <td>2519.80321</td>\n",
       "      <td>2521.30452</td>\n",
       "      <td>2521.31188</td>\n",
       "      <td>2521.81188</td>\n",
       "      <td>2521.38786</td>\n",
       "      <td>2522.30530</td>\n",
       "      <td>2521.83822</td>\n",
       "      <td>2521.82993</td>\n",
       "      <td>...</td>\n",
       "      <td>True</td>\n",
       "      <td>False</td>\n",
       "      <td>False</td>\n",
       "      <td>False</td>\n",
       "      <td>False</td>\n",
       "      <td>False</td>\n",
       "      <td>True</td>\n",
       "      <td>False</td>\n",
       "      <td>False</td>\n",
       "      <td>False</td>\n",
       "    </tr>\n",
       "    <tr>\n",
       "      <th>1</th>\n",
       "      <td>2525.44123</td>\n",
       "      <td>2530.94584</td>\n",
       "      <td>2525.44123</td>\n",
       "      <td>2526.94250</td>\n",
       "      <td>2526.94985</td>\n",
       "      <td>2527.44985</td>\n",
       "      <td>2527.02589</td>\n",
       "      <td>2527.94336</td>\n",
       "      <td>2527.12598</td>\n",
       "      <td>2527.11877</td>\n",
       "      <td>...</td>\n",
       "      <td>True</td>\n",
       "      <td>False</td>\n",
       "      <td>False</td>\n",
       "      <td>False</td>\n",
       "      <td>False</td>\n",
       "      <td>False</td>\n",
       "      <td>True</td>\n",
       "      <td>False</td>\n",
       "      <td>False</td>\n",
       "      <td>False</td>\n",
       "    </tr>\n",
       "    <tr>\n",
       "      <th>2</th>\n",
       "      <td>2536.26697</td>\n",
       "      <td>2541.77160</td>\n",
       "      <td>2536.26697</td>\n",
       "      <td>2537.76829</td>\n",
       "      <td>2537.77573</td>\n",
       "      <td>2538.27573</td>\n",
       "      <td>2537.85162</td>\n",
       "      <td>2538.76911</td>\n",
       "      <td>2537.96839</td>\n",
       "      <td>2537.95773</td>\n",
       "      <td>...</td>\n",
       "      <td>True</td>\n",
       "      <td>False</td>\n",
       "      <td>False</td>\n",
       "      <td>False</td>\n",
       "      <td>False</td>\n",
       "      <td>False</td>\n",
       "      <td>True</td>\n",
       "      <td>False</td>\n",
       "      <td>False</td>\n",
       "      <td>False</td>\n",
       "    </tr>\n",
       "    <tr>\n",
       "      <th>3</th>\n",
       "      <td>2542.27204</td>\n",
       "      <td>2547.77662</td>\n",
       "      <td>2542.27204</td>\n",
       "      <td>2543.77327</td>\n",
       "      <td>2543.78094</td>\n",
       "      <td>2544.28094</td>\n",
       "      <td>2543.85669</td>\n",
       "      <td>2544.77445</td>\n",
       "      <td>2543.97345</td>\n",
       "      <td>2543.96458</td>\n",
       "      <td>...</td>\n",
       "      <td>True</td>\n",
       "      <td>False</td>\n",
       "      <td>False</td>\n",
       "      <td>False</td>\n",
       "      <td>False</td>\n",
       "      <td>False</td>\n",
       "      <td>True</td>\n",
       "      <td>False</td>\n",
       "      <td>False</td>\n",
       "      <td>False</td>\n",
       "    </tr>\n",
       "    <tr>\n",
       "      <th>4</th>\n",
       "      <td>2551.89673</td>\n",
       "      <td>2557.40138</td>\n",
       "      <td>2551.89673</td>\n",
       "      <td>2553.39799</td>\n",
       "      <td>2553.40561</td>\n",
       "      <td>2553.90561</td>\n",
       "      <td>2553.48137</td>\n",
       "      <td>2554.39889</td>\n",
       "      <td>2553.58150</td>\n",
       "      <td>2553.56528</td>\n",
       "      <td>...</td>\n",
       "      <td>True</td>\n",
       "      <td>False</td>\n",
       "      <td>False</td>\n",
       "      <td>False</td>\n",
       "      <td>False</td>\n",
       "      <td>False</td>\n",
       "      <td>True</td>\n",
       "      <td>False</td>\n",
       "      <td>False</td>\n",
       "      <td>False</td>\n",
       "    </tr>\n",
       "  </tbody>\n",
       "</table>\n",
       "<p>5 rows × 46 columns</p>\n",
       "</div>"
      ],
      "text/plain": [
       "    start_time   stop_time  quiescent_start_time  quiescent_stop_time  \\\n",
       "id                                                                      \n",
       "0   2519.80321  2525.30780            2519.80321           2521.30452   \n",
       "1   2525.44123  2530.94584            2525.44123           2526.94250   \n",
       "2   2536.26697  2541.77160            2536.26697           2537.76829   \n",
       "3   2542.27204  2547.77662            2542.27204           2543.77327   \n",
       "4   2551.89673  2557.40138            2551.89673           2553.39799   \n",
       "\n",
       "    stim_start_time  stim_stop_time  response_window_start_time  \\\n",
       "id                                                                \n",
       "0        2521.31188      2521.81188                  2521.38786   \n",
       "1        2526.94985      2527.44985                  2527.02589   \n",
       "2        2537.77573      2538.27573                  2537.85162   \n",
       "3        2543.78094      2544.28094                  2543.85669   \n",
       "4        2553.40561      2553.90561                  2553.48137   \n",
       "\n",
       "    response_window_stop_time  task_control_response_time  response_time  ...  \\\n",
       "id                                                                        ...   \n",
       "0                  2522.30530                  2521.83822     2521.82993  ...   \n",
       "1                  2527.94336                  2527.12598     2527.11877  ...   \n",
       "2                  2538.76911                  2537.96839     2537.95773  ...   \n",
       "3                  2544.77445                  2543.97345     2543.96458  ...   \n",
       "4                  2554.39889                  2553.58150     2553.56528  ...   \n",
       "\n",
       "    is_aud_target  is_vis_target  is_nontarget is_aud_nontarget  \\\n",
       "id                                                                \n",
       "0            True          False         False            False   \n",
       "1            True          False         False            False   \n",
       "2            True          False         False            False   \n",
       "3            True          False         False            False   \n",
       "4            True          False         False            False   \n",
       "\n",
       "    is_vis_nontarget is_vis_context  is_aud_context  is_context_switch  \\\n",
       "id                                                                       \n",
       "0              False          False            True              False   \n",
       "1              False          False            True              False   \n",
       "2              False          False            True              False   \n",
       "3              False          False            True              False   \n",
       "4              False          False            True              False   \n",
       "\n",
       "    is_repeat  is_opto  \n",
       "id                      \n",
       "0       False    False  \n",
       "1       False    False  \n",
       "2       False    False  \n",
       "3       False    False  \n",
       "4       False    False  \n",
       "\n",
       "[5 rows x 46 columns]"
      ]
     },
     "execution_count": 5,
     "metadata": {},
     "output_type": "execute_result"
    }
   ],
   "source": [
    "trials.head()"
   ]
  },
  {
   "cell_type": "code",
   "execution_count": 6,
   "id": "f957a862-5c94-4ba4-850c-928bdd03b60b",
   "metadata": {
    "tags": []
   },
   "outputs": [
    {
     "data": {
      "text/plain": [
       "['block_index',\n",
       " 'context_name',\n",
       " 'is_aud_context',\n",
       " 'is_aud_nontarget',\n",
       " 'is_aud_stim',\n",
       " 'is_aud_target',\n",
       " 'is_catch',\n",
       " 'is_context_switch',\n",
       " 'is_contingent_reward',\n",
       " 'is_correct',\n",
       " 'is_correct_reject',\n",
       " 'is_false_alarm',\n",
       " 'is_go',\n",
       " 'is_hit',\n",
       " 'is_incorrect',\n",
       " 'is_miss',\n",
       " 'is_nogo',\n",
       " 'is_noncontingent_reward',\n",
       " 'is_nontarget',\n",
       " 'is_opto',\n",
       " 'is_repeat',\n",
       " 'is_response',\n",
       " 'is_reward_scheduled',\n",
       " 'is_rewarded',\n",
       " 'is_target',\n",
       " 'is_vis_context',\n",
       " 'is_vis_nontarget',\n",
       " 'is_vis_stim',\n",
       " 'is_vis_target',\n",
       " 'post_response_window_start_time',\n",
       " 'post_response_window_stop_time',\n",
       " 'quiescent_start_time',\n",
       " 'quiescent_stop_time',\n",
       " 'repeat_index',\n",
       " 'response_time',\n",
       " 'response_window_start_time',\n",
       " 'response_window_stop_time',\n",
       " 'reward_time',\n",
       " 'start_time',\n",
       " 'stim_name',\n",
       " 'stim_start_time',\n",
       " 'stim_stop_time',\n",
       " 'stop_time',\n",
       " 'task_control_response_time',\n",
       " 'trial_index',\n",
       " 'trial_index_in_block']"
      ]
     },
     "execution_count": 6,
     "metadata": {},
     "output_type": "execute_result"
    }
   ],
   "source": [
    "sorted(trials.columns)"
   ]
  },
  {
   "cell_type": "markdown",
   "id": "1bc3b59a-3970-46d8-b099-5f7c84f0912c",
   "metadata": {},
   "source": [
    "### Example: compute response time histogram from trials table"
   ]
  },
  {
   "cell_type": "code",
   "execution_count": 7,
   "id": "f8310498-e7ed-424f-8e04-3723d7e9e73b",
   "metadata": {
    "tags": []
   },
   "outputs": [],
   "source": [
    "reaction_times = trials.response_time - trials.stim_start_time"
   ]
  },
  {
   "cell_type": "code",
   "execution_count": 8,
   "id": "9aa4e961-14ca-40f5-a895-b184b2ca5302",
   "metadata": {
    "tags": []
   },
   "outputs": [
    {
     "data": {
      "text/plain": [
       "id\n",
       "0      0.51805\n",
       "1      0.16892\n",
       "2      0.18200\n",
       "3      0.18364\n",
       "4      0.15967\n",
       "        ...   \n",
       "533        NaN\n",
       "534        NaN\n",
       "535        NaN\n",
       "536        NaN\n",
       "537    0.49307\n",
       "Length: 538, dtype: float64"
      ]
     },
     "execution_count": 8,
     "metadata": {},
     "output_type": "execute_result"
    }
   ],
   "source": [
    "reaction_times"
   ]
  },
  {
   "cell_type": "code",
   "execution_count": 9,
   "id": "4bf8c29b-c3d7-48fd-8a55-e891d7a3ad07",
   "metadata": {
    "tags": []
   },
   "outputs": [
    {
     "data": {
      "text/plain": [
       "Text(0, 0.5, 'Counts')"
      ]
     },
     "execution_count": 9,
     "metadata": {},
     "output_type": "execute_result"
    },
    {
     "data": {
      "image/png": "[encoded data removed]",
      "text/plain": [
       "<Figure size 640x480 with 1 Axes>"
      ]
     },
     "metadata": {},
     "output_type": "display_data"
    }
   ],
   "source": [
    "fig,ax = plt.subplots(1,1)\n",
    "ax.hist(reaction_times,bins=50,range=(0,1));\n",
    "ax.set_xlabel('Response times (s)')\n",
    "ax.set_ylabel('Counts')"
   ]
  },
  {
   "cell_type": "markdown",
   "id": "091f87c2-f592-4df9-a562-91a2d2089fd3",
   "metadata": {},
   "source": [
    "# Units table"
   ]
  },
  {
   "cell_type": "code",
   "execution_count": 10,
   "id": "5fd5ffd2-3ab5-4fb5-82bd-4e4ec9d3674c",
   "metadata": {
    "tags": []
   },
   "outputs": [],
   "source": [
    "units = nwb.units.to_dataframe()"
   ]
  },
  {
   "cell_type": "code",
   "execution_count": 11,
   "id": "fe046d75-dd1d-46bc-ac05-df27236fd0fe",
   "metadata": {
    "tags": []
   },
   "outputs": [
    {
     "data": {
      "text/html": [
       "<div>\n",
       "<style scoped>\n",
       "    .dataframe tbody tr th:only-of-type {\n",
       "        vertical-align: middle;\n",
       "    }\n",
       "\n",
       "    .dataframe tbody tr th {\n",
       "        vertical-align: top;\n",
       "    }\n",
       "\n",
       "    .dataframe thead th {\n",
       "        text-align: right;\n",
       "    }\n",
       "</style>\n",
       "<table border=\"1\" class=\"dataframe\">\n",
       "  <thead>\n",
       "    <tr style=\"text-align: right;\">\n",
       "      <th></th>\n",
       "      <th>amplitude_cutoff</th>\n",
       "      <th>amplitude_cv_median</th>\n",
       "      <th>amplitude_cv_range</th>\n",
       "      <th>amplitude_median</th>\n",
       "      <th>drift_ptp</th>\n",
       "      <th>drift_std</th>\n",
       "      <th>drift_mad</th>\n",
       "      <th>firing_range</th>\n",
       "      <th>firing_rate</th>\n",
       "      <th>isi_violations_ratio</th>\n",
       "      <th>...</th>\n",
       "      <th>unit_id</th>\n",
       "      <th>ccf_ap</th>\n",
       "      <th>ccf_dv</th>\n",
       "      <th>ccf_ml</th>\n",
       "      <th>structure</th>\n",
       "      <th>location</th>\n",
       "      <th>peak_electrode</th>\n",
       "      <th>spike_times</th>\n",
       "      <th>obs_intervals</th>\n",
       "      <th>electrode_group</th>\n",
       "    </tr>\n",
       "    <tr>\n",
       "      <th>id</th>\n",
       "      <th></th>\n",
       "      <th></th>\n",
       "      <th></th>\n",
       "      <th></th>\n",
       "      <th></th>\n",
       "      <th></th>\n",
       "      <th></th>\n",
       "      <th></th>\n",
       "      <th></th>\n",
       "      <th></th>\n",
       "      <th></th>\n",
       "      <th></th>\n",
       "      <th></th>\n",
       "      <th></th>\n",
       "      <th></th>\n",
       "      <th></th>\n",
       "      <th></th>\n",
       "      <th></th>\n",
       "      <th></th>\n",
       "      <th></th>\n",
       "      <th></th>\n",
       "    </tr>\n",
       "  </thead>\n",
       "  <tbody>\n",
       "    <tr>\n",
       "      <th>0</th>\n",
       "      <td>0.000024</td>\n",
       "      <td>0.119623</td>\n",
       "      <td>0.091381</td>\n",
       "      <td>236.340000</td>\n",
       "      <td>10.051738</td>\n",
       "      <td>1.746884</td>\n",
       "      <td>0.646459</td>\n",
       "      <td>3.8</td>\n",
       "      <td>4.891656</td>\n",
       "      <td>0.001804</td>\n",
       "      <td>...</td>\n",
       "      <td>742903_2024-10-22_A-0</td>\n",
       "      <td>4450.0</td>\n",
       "      <td>4400.0</td>\n",
       "      <td>4950.0</td>\n",
       "      <td>LSr</td>\n",
       "      <td>LSr</td>\n",
       "      <td>0</td>\n",
       "      <td>[20.28927901589777, 20.311845609610423, 20.462...</td>\n",
       "      <td>[[20.22514588989608, 7742.738080300452]]</td>\n",
       "      <td>probeA pynwb.ecephys.ElectrodeGroup at 0x14049...</td>\n",
       "    </tr>\n",
       "    <tr>\n",
       "      <th>1</th>\n",
       "      <td>0.002602</td>\n",
       "      <td>0.325891</td>\n",
       "      <td>0.232566</td>\n",
       "      <td>60.839996</td>\n",
       "      <td>NaN</td>\n",
       "      <td>NaN</td>\n",
       "      <td>NaN</td>\n",
       "      <td>0.4</td>\n",
       "      <td>0.113434</td>\n",
       "      <td>3.354522</td>\n",
       "      <td>...</td>\n",
       "      <td>742903_2024-10-22_A-1</td>\n",
       "      <td>4450.0</td>\n",
       "      <td>4400.0</td>\n",
       "      <td>4950.0</td>\n",
       "      <td>LSr</td>\n",
       "      <td>LSr</td>\n",
       "      <td>1</td>\n",
       "      <td>[22.243439365091692, 24.726864669927423, 26.76...</td>\n",
       "      <td>[[20.22514588989608, 7742.738080300452]]</td>\n",
       "      <td>probeA pynwb.ecephys.ElectrodeGroup at 0x14049...</td>\n",
       "    </tr>\n",
       "  </tbody>\n",
       "</table>\n",
       "<p>2 rows × 52 columns</p>\n",
       "</div>"
      ],
      "text/plain": [
       "    amplitude_cutoff  amplitude_cv_median  amplitude_cv_range  \\\n",
       "id                                                              \n",
       "0           0.000024             0.119623            0.091381   \n",
       "1           0.002602             0.325891            0.232566   \n",
       "\n",
       "    amplitude_median  drift_ptp  drift_std  drift_mad  firing_range  \\\n",
       "id                                                                    \n",
       "0         236.340000  10.051738   1.746884   0.646459           3.8   \n",
       "1          60.839996        NaN        NaN        NaN           0.4   \n",
       "\n",
       "    firing_rate  isi_violations_ratio  ...                unit_id  ccf_ap  \\\n",
       "id                                     ...                                  \n",
       "0      4.891656              0.001804  ...  742903_2024-10-22_A-0  4450.0   \n",
       "1      0.113434              3.354522  ...  742903_2024-10-22_A-1  4450.0   \n",
       "\n",
       "    ccf_dv  ccf_ml  structure  location  peak_electrode  \\\n",
       "id                                                        \n",
       "0   4400.0  4950.0        LSr       LSr               0   \n",
       "1   4400.0  4950.0        LSr       LSr               1   \n",
       "\n",
       "                                          spike_times  \\\n",
       "id                                                      \n",
       "0   [20.28927901589777, 20.311845609610423, 20.462...   \n",
       "1   [22.243439365091692, 24.726864669927423, 26.76...   \n",
       "\n",
       "                               obs_intervals  \\\n",
       "id                                             \n",
       "0   [[20.22514588989608, 7742.738080300452]]   \n",
       "1   [[20.22514588989608, 7742.738080300452]]   \n",
       "\n",
       "                                      electrode_group  \n",
       "id                                                     \n",
       "0   probeA pynwb.ecephys.ElectrodeGroup at 0x14049...  \n",
       "1   probeA pynwb.ecephys.ElectrodeGroup at 0x14049...  \n",
       "\n",
       "[2 rows x 52 columns]"
      ]
     },
     "execution_count": 11,
     "metadata": {},
     "output_type": "execute_result"
    }
   ],
   "source": [
    "units.head(2)"
   ]
  },
  {
   "cell_type": "code",
   "execution_count": 12,
   "id": "e011f1bc-23b7-4530-808f-3378af67dd1d",
   "metadata": {
    "tags": []
   },
   "outputs": [
    {
     "data": {
      "text/plain": [
       "['amplitude',\n",
       " 'amplitude_cutoff',\n",
       " 'amplitude_cv_median',\n",
       " 'amplitude_cv_range',\n",
       " 'amplitude_median',\n",
       " 'ccf_ap',\n",
       " 'ccf_dv',\n",
       " 'ccf_ml',\n",
       " 'cluster_id',\n",
       " 'd_prime',\n",
       " 'default_qc',\n",
       " 'drift_mad',\n",
       " 'drift_ptp',\n",
       " 'drift_std',\n",
       " 'electrode_group',\n",
       " 'electrode_group_name',\n",
       " 'exp_decay',\n",
       " 'firing_range',\n",
       " 'firing_rate',\n",
       " 'half_width',\n",
       " 'isi_violations_count',\n",
       " 'isi_violations_ratio',\n",
       " 'isolation_distance',\n",
       " 'l_ratio',\n",
       " 'location',\n",
       " 'nn_hit_rate',\n",
       " 'nn_miss_rate',\n",
       " 'num_negative_peaks',\n",
       " 'num_positive_peaks',\n",
       " 'num_spikes',\n",
       " 'obs_intervals',\n",
       " 'peak_channel',\n",
       " 'peak_electrode',\n",
       " 'peak_to_valley',\n",
       " 'peak_trough_ratio',\n",
       " 'presence_ratio',\n",
       " 'recovery_slope',\n",
       " 'repolarization_slope',\n",
       " 'rp_contamination',\n",
       " 'rp_violations',\n",
       " 'silhouette',\n",
       " 'sliding_rp_violation',\n",
       " 'snr',\n",
       " 'spike_times',\n",
       " 'spread',\n",
       " 'structure',\n",
       " 'sync_spike_2',\n",
       " 'sync_spike_4',\n",
       " 'sync_spike_8',\n",
       " 'unit_id',\n",
       " 'velocity_above',\n",
       " 'velocity_below']"
      ]
     },
     "execution_count": 12,
     "metadata": {},
     "output_type": "execute_result"
    }
   ],
   "source": [
    "sorted(units.columns)"
   ]
  },
  {
   "cell_type": "markdown",
   "id": "65a4a1f8-4425-42a2-945b-f0fb85d5cbed",
   "metadata": {},
   "source": [
    "### Example: which brain regions are recorded?"
   ]
  },
  {
   "cell_type": "code",
   "execution_count": 13,
   "id": "93fcbcae-cc8a-4980-869b-219b062a12a5",
   "metadata": {
    "tags": []
   },
   "outputs": [
    {
     "data": {
      "text/plain": [
       "structure\n",
       "MOs             1116\n",
       "SSp              857\n",
       "ORBvl            433\n",
       "ILA              279\n",
       "CP               265\n",
       "TTd              240\n",
       "SSs              169\n",
       "ORBm             157\n",
       "ACAd             134\n",
       "ORBl             132\n",
       "GU               103\n",
       "PL                98\n",
       "LSr               86\n",
       "VISal             76\n",
       "out of brain      54\n",
       "CA3               51\n",
       "ACAv              48\n",
       "CA1               40\n",
       "LGv               36\n",
       "FRP               28\n",
       "AIp               19\n",
       "OLF               17\n",
       "DG                 8\n",
       "Name: count, dtype: int64"
      ]
     },
     "execution_count": 13,
     "metadata": {},
     "output_type": "execute_result"
    }
   ],
   "source": [
    "units.structure.value_counts()"
   ]
  },
  {
   "cell_type": "markdown",
   "id": "30fbea6d-0763-42b6-b705-ff858ca0a470",
   "metadata": {
    "tags": []
   },
   "source": [
    "# IMPORTANT: Not all units returned from spike sorting are \"good\""
   ]
  },
  {
   "cell_type": "markdown",
   "id": "2e4ebbad-4e88-49b6-880b-e9992813dbd6",
   "metadata": {},
   "source": [
    "#### Filter units to only include those passing manual QC"
   ]
  },
  {
   "cell_type": "code",
   "execution_count": 14,
   "id": "adbdbdfb-255a-44e3-99ad-8ea12119ccf6",
   "metadata": {
    "tags": []
   },
   "outputs": [],
   "source": [
    "# Filter units based on manual QC file\n",
    "unit_qc_file = '/data/manual_qc.csv'\n",
    "unit_qc = pd.read_csv(unit_qc_file)\n",
    "units = pd.merge(units,unit_qc,on='unit_id')\n",
    "units = units[units.manual_qc==True]"
   ]
  },
  {
   "cell_type": "code",
   "execution_count": 15,
   "id": "7bba5b30-203d-4d47-b8b2-e3fdf07c03b7",
   "metadata": {
    "tags": []
   },
   "outputs": [
    {
     "data": {
      "text/plain": [
       "structure\n",
       "SSp             603\n",
       "MOs             548\n",
       "ORBvl           314\n",
       "ILA             214\n",
       "CP              160\n",
       "SSs             150\n",
       "TTd             135\n",
       "ORBm            103\n",
       "ORBl             91\n",
       "GU               77\n",
       "ACAd             76\n",
       "PL               68\n",
       "LSr              66\n",
       "out of brain     51\n",
       "ACAv             35\n",
       "VISal            33\n",
       "CA1              23\n",
       "FRP              22\n",
       "CA3              22\n",
       "AIp              19\n",
       "OLF              11\n",
       "LGv               7\n",
       "DG                3\n",
       "Name: count, dtype: int64"
      ]
     },
     "execution_count": 15,
     "metadata": {},
     "output_type": "execute_result"
    }
   ],
   "source": [
    "units.structure.value_counts()"
   ]
  },
  {
   "cell_type": "code",
   "execution_count": null,
   "id": "61b615fa-f87e-4ce1-bb28-e27cce0ebca7",
   "metadata": {},
   "outputs": [],
   "source": []
  },
  {
   "cell_type": "code",
   "execution_count": null,
   "id": "5acbaf88-5732-41c4-a50e-cf148c0e15d2",
   "metadata": {},
   "outputs": [],
   "source": []
  }
 ],
 "metadata": {
  "kernelspec": {
   "display_name": "Python 3 (ipykernel)",
   "language": "python",
   "name": "python3"
  },
  "language_info": {
   "codemirror_mode": {
    "name": "ipython",
    "version": 3
   },
   "file_extension": ".py",
   "mimetype": "text/x-python",
   "name": "python",
   "nbconvert_exporter": "python",
   "pygments_lexer": "ipython3",
   "version": "3.10.12"
  }
 },
 "nbformat": 4,
 "nbformat_minor": 5
}
